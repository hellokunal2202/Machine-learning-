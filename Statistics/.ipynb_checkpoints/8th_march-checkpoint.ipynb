{
 "cells": [
  {
   "cell_type": "markdown",
   "id": "410e90d4",
   "metadata": {},
   "source": [
    "# Q1:\n"
   ]
  },
  {
   "cell_type": "markdown",
   "id": "6ce60cec",
   "metadata": {},
   "source": [
    "Q1. What is the Probability density function?"
   ]
  },
  {
   "cell_type": "markdown",
   "id": "eadd8674",
   "metadata": {},
   "source": [
    "Ans:<br>\n",
    "1.Probability density function defines the density of the probability that a continuous random variable will lie within a particular range of values. <br>\n",
    "\n",
    "2.The graph of a probability density function is in the form of a bell curve.<br>\n",
    "\n",
    "3.The area that lies between any two specified values gives the probability of the outcome of the designated observation. <br>\n",
    "\n",
    "4.If we differentiate the cumulative distribution function of a continuous random variable it results in the probability density function. Conversely, on integrating the probability density function we get the cumulative distribution function.<br>"
   ]
  },
  {
   "cell_type": "markdown",
   "id": "d77c9783",
   "metadata": {},
   "source": [
    "# Q2: "
   ]
  },
  {
   "cell_type": "markdown",
   "id": "112a70d1",
   "metadata": {},
   "source": [
    "Q2. What are the types of Probability distribution?"
   ]
  },
  {
   "cell_type": "markdown",
   "id": "e6d55c71",
   "metadata": {},
   "source": [
    "Ans:\n",
    "\n",
    "Types of Probability distribution:\n",
    "\n",
    "1.Normal/Gaussian distribution<br>\n",
    "2.Bernoulli distribution<br>\n",
    "3.Uniform distribution<br>\n",
    "4.Poission distribution<br>\n",
    "5.Log Normal distribution <br>\n",
    "6.Binomial distribution<br>"
   ]
  },
  {
   "cell_type": "markdown",
   "id": "9fa2ab3a",
   "metadata": {},
   "source": [
    "# Q3: "
   ]
  },
  {
   "cell_type": "markdown",
   "id": "702501df",
   "metadata": {},
   "source": [
    "Q3. Write a Python function to calculate the probability density function of a normal distribution with\n",
    "given mean and standard deviation at a given point."
   ]
  },
  {
   "cell_type": "code",
   "execution_count": 2,
   "id": "1e85b6e1",
   "metadata": {},
   "outputs": [
    {
     "name": "stdout",
     "output_type": "stream",
     "text": [
      "0.0804410163156249\n"
     ]
    }
   ],
   "source": [
    "from scipy.stats import norm\n",
    "import numpy as np\n",
    "\n",
    "data_start = -5\n",
    "data_end = 5\n",
    "data_points = 11\n",
    "data = np.linspace(data_start, data_end, data_points)\n",
    "\n",
    "mean = np.mean(data)\n",
    "std = np.std(data)\n",
    "\n",
    "probability_pdf = norm.pdf(3, loc=mean, scale=std)\n",
    "print(probability_pdf)\n"
   ]
  },
  {
   "cell_type": "code",
   "execution_count": null,
   "id": "4ffebaf1",
   "metadata": {},
   "outputs": [],
   "source": []
  }
 ],
 "metadata": {
  "kernelspec": {
   "display_name": "Python 3 (ipykernel)",
   "language": "python",
   "name": "python3"
  },
  "language_info": {
   "codemirror_mode": {
    "name": "ipython",
    "version": 3
   },
   "file_extension": ".py",
   "mimetype": "text/x-python",
   "name": "python",
   "nbconvert_exporter": "python",
   "pygments_lexer": "ipython3",
   "version": "3.10.8"
  }
 },
 "nbformat": 4,
 "nbformat_minor": 5
}
