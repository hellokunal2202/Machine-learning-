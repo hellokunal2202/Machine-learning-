{
 "cells": [
  {
   "cell_type": "code",
   "execution_count": 14,
   "id": "24ea31e7",
   "metadata": {},
   "outputs": [],
   "source": [
    "list1 = [1,2,3,4, [44,55,66, True], False, (34,56,78,89,34), {1,2,3,3,2,1}, {1:34, \"key2\": [55, 67, 78, 89], 4: (45,\n",
    "22, 61, 34)}, [56, 'data science'], 'Machine Learning']"
   ]
  },
  {
   "cell_type": "code",
   "execution_count": 15,
   "id": "3e21dd1d",
   "metadata": {},
   "outputs": [
    {
     "data": {
      "text/plain": [
       "list"
      ]
     },
     "execution_count": 15,
     "metadata": {},
     "output_type": "execute_result"
    }
   ],
   "source": [
    "type(list1)"
   ]
  },
  {
   "cell_type": "code",
   "execution_count": 16,
   "id": "4c62e6ce",
   "metadata": {},
   "outputs": [],
   "source": [
    "d={\"key\":[1,2,3,4]}"
   ]
  },
  {
   "cell_type": "code",
   "execution_count": 17,
   "id": "b6eab36a",
   "metadata": {},
   "outputs": [
    {
     "data": {
      "text/plain": [
       "dict"
      ]
     },
     "execution_count": 17,
     "metadata": {},
     "output_type": "execute_result"
    }
   ],
   "source": [
    "type(d)"
   ]
  },
  {
   "cell_type": "code",
   "execution_count": 21,
   "id": "1db0b2d2",
   "metadata": {},
   "outputs": [
    {
     "data": {
      "text/plain": [
       "list"
      ]
     },
     "execution_count": 21,
     "metadata": {},
     "output_type": "execute_result"
    }
   ],
   "source": [
    "product=1\n",
    "list1 = [1,2,3,4, [44,55,66, True]]\n",
    "type(list1)"
   ]
  },
  {
   "cell_type": "code",
   "execution_count": 22,
   "id": "2f5d0d10",
   "metadata": {},
   "outputs": [],
   "source": [
    "\n",
    "for i in list1:\n",
    "   \n",
    "        "
   ]
  },
  {
   "cell_type": "code",
   "execution_count": 23,
   "id": "82ce504e",
   "metadata": {},
   "outputs": [
    {
     "data": {
      "text/plain": [
       "[44,\n",
       " 55,\n",
       " 66,\n",
       " True,\n",
       " 44,\n",
       " 55,\n",
       " 66,\n",
       " True,\n",
       " 44,\n",
       " 55,\n",
       " 66,\n",
       " True,\n",
       " 44,\n",
       " 55,\n",
       " 66,\n",
       " True,\n",
       " 44,\n",
       " 55,\n",
       " 66,\n",
       " True,\n",
       " 44,\n",
       " 55,\n",
       " 66,\n",
       " True,\n",
       " 44,\n",
       " 55,\n",
       " 66,\n",
       " True,\n",
       " 44,\n",
       " 55,\n",
       " 66,\n",
       " True,\n",
       " 44,\n",
       " 55,\n",
       " 66,\n",
       " True,\n",
       " 44,\n",
       " 55,\n",
       " 66,\n",
       " True,\n",
       " 44,\n",
       " 55,\n",
       " 66,\n",
       " True,\n",
       " 44,\n",
       " 55,\n",
       " 66,\n",
       " True,\n",
       " 44,\n",
       " 55,\n",
       " 66,\n",
       " True,\n",
       " 44,\n",
       " 55,\n",
       " 66,\n",
       " True,\n",
       " 44,\n",
       " 55,\n",
       " 66,\n",
       " True,\n",
       " 44,\n",
       " 55,\n",
       " 66,\n",
       " True,\n",
       " 44,\n",
       " 55,\n",
       " 66,\n",
       " True,\n",
       " 44,\n",
       " 55,\n",
       " 66,\n",
       " True,\n",
       " 44,\n",
       " 55,\n",
       " 66,\n",
       " True,\n",
       " 44,\n",
       " 55,\n",
       " 66,\n",
       " True,\n",
       " 44,\n",
       " 55,\n",
       " 66,\n",
       " True,\n",
       " 44,\n",
       " 55,\n",
       " 66,\n",
       " True,\n",
       " 44,\n",
       " 55,\n",
       " 66,\n",
       " True,\n",
       " 44,\n",
       " 55,\n",
       " 66,\n",
       " True]"
      ]
     },
     "execution_count": 23,
     "metadata": {},
     "output_type": "execute_result"
    }
   ],
   "source": [
    "product"
   ]
  },
  {
   "cell_type": "code",
   "execution_count": null,
   "id": "648832bd",
   "metadata": {},
   "outputs": [],
   "source": []
  }
 ],
 "metadata": {
  "kernelspec": {
   "display_name": "Python 3 (ipykernel)",
   "language": "python",
   "name": "python3"
  },
  "language_info": {
   "codemirror_mode": {
    "name": "ipython",
    "version": 3
   },
   "file_extension": ".py",
   "mimetype": "text/x-python",
   "name": "python",
   "nbconvert_exporter": "python",
   "pygments_lexer": "ipython3",
   "version": "3.10.8"
  }
 },
 "nbformat": 4,
 "nbformat_minor": 5
}
