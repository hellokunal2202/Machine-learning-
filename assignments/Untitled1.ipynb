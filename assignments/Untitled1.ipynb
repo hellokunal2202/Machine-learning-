{
 "cells": [
  {
   "cell_type": "markdown",
   "id": "b7e22fca",
   "metadata": {},
   "source": [
    "# Q1: "
   ]
  },
  {
   "cell_type": "markdown",
   "id": "ab3d7c11",
   "metadata": {},
   "source": [
    "What are missing values in a dataset? Why is it essential to handle missing values? Name some\n",
    "algorithms that are not affected by missing values."
   ]
  },
  {
   "cell_type": "markdown",
   "id": "c01e6d45",
   "metadata": {},
   "source": [
    "Ans:\n",
    "\n",
    "1. Missing data, or missing values, occur when you don’t have data stored for certain variables or participants. Data can go missing due to incomplete data entry, equipment malfunctions, lost files, and many other reasons.\n",
    "\n",
    "\n",
    "2. If missing values are not properly dealt with and imputed, a Researcher may come up with inaccurate insights or assumptions about the data during the EDA stage which subsequently can have a significant impact on the ML modelling phase. Missing values can also reduce the true representativeness of the dataset and result in the reduced statistical significance of the analysis performed.<br>\n",
    "    Also, if you just keep the missing values as it is, many ML model algorithms will throw an error during the training phase       as they can’t handle missing values inherently.\n",
    "\n",
    "\n",
    "\n",
    "3. All the machine learning algorithms don’t support missing values but some ML algorithms are robust to missing values in the dataset. The k-NN algorithm can ignore a column from a distance measure when a value is missing. Naive Bayes can also support missing values when making a prediction. These algorithms can be used when the dataset contains null or missing values.\n",
    "\n",
    "\n"
   ]
  },
  {
   "cell_type": "markdown",
   "id": "64c9400e",
   "metadata": {},
   "source": [
    "#  Q2:"
   ]
  },
  {
   "cell_type": "code",
   "execution_count": null,
   "id": "53e4cab4",
   "metadata": {},
   "outputs": [],
   "source": []
  }
 ],
 "metadata": {
  "kernelspec": {
   "display_name": "Python 3 (ipykernel)",
   "language": "python",
   "name": "python3"
  },
  "language_info": {
   "codemirror_mode": {
    "name": "ipython",
    "version": 3
   },
   "file_extension": ".py",
   "mimetype": "text/x-python",
   "name": "python",
   "nbconvert_exporter": "python",
   "pygments_lexer": "ipython3",
   "version": "3.10.8"
  }
 },
 "nbformat": 4,
 "nbformat_minor": 5
}
