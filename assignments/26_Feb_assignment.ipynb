{
 "cells": [
  {
   "cell_type": "code",
   "execution_count": 1,
   "id": "0c135014",
   "metadata": {},
   "outputs": [],
   "source": [
    "import numpy as np"
   ]
  },
  {
   "cell_type": "markdown",
   "id": "fb42f4bc",
   "metadata": {},
   "source": [
    "# Q1:\n"
   ]
  },
  {
   "cell_type": "code",
   "execution_count": 10,
   "id": "361838de",
   "metadata": {},
   "outputs": [
    {
     "data": {
      "text/plain": [
       "'Q1. Is there any difference in the data type of variables list_ and array_list? If there is then write a code\\nto print the data types of both the variables.'"
      ]
     },
     "execution_count": 10,
     "metadata": {},
     "output_type": "execute_result"
    }
   ],
   "source": [
    "'''Q1. Is there any difference in the data type of variables list_ and array_list? If there is then write a code\n",
    "to print the data types of both the variables.'''\n",
    "\n",
    "import numpy as np\n",
    "list_ = [ '1','2','3','4','5']\n",
    "array_list = np.array(object = list_)\n"
   ]
  },
  {
   "cell_type": "markdown",
   "id": "61dd5e6d",
   "metadata": {},
   "source": [
    "\n"
   ]
  },
  {
   "cell_type": "code",
   "execution_count": 12,
   "id": "f52db791",
   "metadata": {},
   "outputs": [
    {
     "name": "stdout",
     "output_type": "stream",
     "text": [
      "<class 'list'> <class 'numpy.ndarray'>\n"
     ]
    }
   ],
   "source": [
    "#Ans:\n",
    "'''Yes there any difference in the data type of variables list_ and array_list. list_ is of List data type whereas array_list\n",
    "is of array data type .list_ is converted to array with the help of array function available in numpy library'''\n",
    "\n",
    "print(type(list_),type(array_list))\n"
   ]
  },
  {
   "cell_type": "markdown",
   "id": "f2c557a3",
   "metadata": {},
   "source": [
    "# Q2 "
   ]
  },
  {
   "cell_type": "code",
   "execution_count": null,
   "id": "4bd277d4",
   "metadata": {},
   "outputs": [],
   "source": [
    "'''  Write a code to print the data type of each and every element of both the variables list_ and\n",
    "arra_list. '''"
   ]
  },
  {
   "cell_type": "code",
   "execution_count": 16,
   "id": "1ec155f0",
   "metadata": {},
   "outputs": [
    {
     "name": "stdout",
     "output_type": "stream",
     "text": [
      "<class 'str'> <class 'str'> <class 'str'> <class 'str'> <class 'str'> \n",
      "<class 'numpy.str_'> <class 'numpy.str_'> <class 'numpy.str_'> <class 'numpy.str_'> <class 'numpy.str_'> "
     ]
    }
   ],
   "source": [
    "for i in list_:\n",
    "    print(type(i),end=\" \")\n",
    "\n",
    "print(\"\")\n",
    "\n",
    "for i in array_list:\n",
    "    print(type(i),end=\" \")"
   ]
  },
  {
   "cell_type": "markdown",
   "id": "9cf6920a",
   "metadata": {},
   "source": [
    "# Q3 "
   ]
  },
  {
   "cell_type": "code",
   "execution_count": 37,
   "id": "8602ebfb",
   "metadata": {},
   "outputs": [],
   "source": [
    "'''Q3:Considering the following changes in the variable, array_list:'''\n",
    "import numpy as np\n",
    "list_2 = [ '1','2','3','4','5']\n",
    "array_list2 = np.array(object = list_2, dtype = int)\n",
    "\n",
    "'''Will there be any difference in the data type of the elements present in both the variables, list_ and\n",
    "arra_list? If so then print the data types of each and every element present in both the variables, list_\n",
    "and arra_list.'''"
   ]
  },
  {
   "cell_type": "code",
   "execution_count": 40,
   "id": "4f756263",
   "metadata": {},
   "outputs": [
    {
     "name": "stdout",
     "output_type": "stream",
     "text": [
      "<class 'list'> <class 'numpy.ndarray'>\n"
     ]
    }
   ],
   "source": [
    "'''Yes, there will be difference in data types of the elements because now there will be only int data in array_list2 since \n",
    "we spacified the data type in np.array function '''\n",
    "print(type(list_2),type(array_list2))\n"
   ]
  },
  {
   "cell_type": "code",
   "execution_count": 42,
   "id": "75943394",
   "metadata": {},
   "outputs": [
    {
     "name": "stdout",
     "output_type": "stream",
     "text": [
      "<class 'str'> <class 'str'> <class 'str'> <class 'str'> <class 'str'> \n",
      "<class 'numpy.int32'> <class 'numpy.int32'> <class 'numpy.int32'> <class 'numpy.int32'> <class 'numpy.int32'> "
     ]
    }
   ],
   "source": [
    "'''below is the code for checking the data type of elements:'''\n",
    "for i in list_2:\n",
    "    print(type(i),end=\" \")\n",
    "\n",
    "print(\"\")\n",
    "\n",
    "for i in array_list2:\n",
    "    print(type(i),end=\" \")"
   ]
  },
  {
   "cell_type": "code",
   "execution_count": null,
   "id": "10e6957d",
   "metadata": {},
   "outputs": [],
   "source": []
  },
  {
   "cell_type": "code",
   "execution_count": 45,
   "id": "cd6af99f",
   "metadata": {},
   "outputs": [],
   "source": [
    "'''Consider the below code to answer further questions:'''\n",
    "import numpy as n\n",
    "num_list = [ [ 1 , 2 , 3 ] , [ 4 , 5 , 6 ] ]\n",
    "num_array = np.array(object = num_list)\n"
   ]
  },
  {
   "cell_type": "markdown",
   "id": "14ca5787",
   "metadata": {},
   "source": [
    "# Q4:\n"
   ]
  },
  {
   "cell_type": "code",
   "execution_count": 44,
   "id": "c015335a",
   "metadata": {},
   "outputs": [
    {
     "data": {
      "text/plain": [
       "' Write a code to find the following characteristics of variable, num_array:\\n(i) shape\\n(ii) size  '"
      ]
     },
     "execution_count": 44,
     "metadata": {},
     "output_type": "execute_result"
    }
   ],
   "source": [
    "''' Write a code to find the following characteristics of variable, num_array:\n",
    "(i) shape\n",
    "(ii) size  '''"
   ]
  },
  {
   "cell_type": "code",
   "execution_count": 49,
   "id": "bc9f91bb",
   "metadata": {},
   "outputs": [
    {
     "name": "stdout",
     "output_type": "stream",
     "text": [
      "shape: (2, 3)\n",
      "size: 6\n"
     ]
    }
   ],
   "source": [
    "#for checking the size of array\n",
    "print(\"shape:\",num_array.shape)\n",
    "print(\"size:\",num_array.size)"
   ]
  },
  {
   "cell_type": "markdown",
   "id": "ae5a6f3c",
   "metadata": {},
   "source": [
    "# Q5: "
   ]
  },
  {
   "cell_type": "code",
   "execution_count": 51,
   "id": "ac7584ee",
   "metadata": {},
   "outputs": [
    {
     "data": {
      "text/plain": [
       "'Q5. Write a code to create numpy array of 3*3 matrix containing zeros only, using a numpy array\\ncreation function.\\n[Hint: The size of the array will be 9 and the shape will be (3,3).]'"
      ]
     },
     "execution_count": 51,
     "metadata": {},
     "output_type": "execute_result"
    }
   ],
   "source": [
    "''' Q5. Write a code to create numpy array of 3*3 matrix containing zeros only, using a numpy array\n",
    "    creation function.\n",
    "    [Hint: The size of the array will be 9 and the shape will be (3,3).]'''"
   ]
  },
  {
   "cell_type": "code",
   "execution_count": 55,
   "id": "f577c670",
   "metadata": {},
   "outputs": [
    {
     "data": {
      "text/plain": [
       "numpy.ndarray"
      ]
     },
     "execution_count": 55,
     "metadata": {},
     "output_type": "execute_result"
    }
   ],
   "source": [
    "zero_array=np.zeros((3,3))\n",
    "type(zero_array)"
   ]
  },
  {
   "cell_type": "code",
   "execution_count": 54,
   "id": "27e2c6b2",
   "metadata": {},
   "outputs": [
    {
     "data": {
      "text/plain": [
       "array([[0., 0., 0.],\n",
       "       [0., 0., 0.],\n",
       "       [0., 0., 0.]])"
      ]
     },
     "execution_count": 54,
     "metadata": {},
     "output_type": "execute_result"
    }
   ],
   "source": [
    "zero_array"
   ]
  },
  {
   "cell_type": "markdown",
   "id": "62475d7d",
   "metadata": {},
   "source": [
    "# Q6: "
   ]
  },
  {
   "cell_type": "code",
   "execution_count": 56,
   "id": "13611ba2",
   "metadata": {},
   "outputs": [
    {
     "data": {
      "text/plain": [
       "'Q6. Create an identity matrix of shape (5,5) using numpy functions?\\n[Hint: An identity matrix is a matrix containing 1 diagonally and other elements will be 0.]'"
      ]
     },
     "execution_count": 56,
     "metadata": {},
     "output_type": "execute_result"
    }
   ],
   "source": [
    "'''Q6. Create an identity matrix of shape (5,5) using numpy functions?\n",
    "[Hint: An identity matrix is a matrix containing 1 diagonally and other elements will be 0.]'''"
   ]
  },
  {
   "cell_type": "code",
   "execution_count": 58,
   "id": "bcb221ce",
   "metadata": {},
   "outputs": [
    {
     "data": {
      "text/plain": [
       "array([[1., 0., 0., 0., 0.],\n",
       "       [0., 1., 0., 0., 0.],\n",
       "       [0., 0., 1., 0., 0.],\n",
       "       [0., 0., 0., 1., 0.],\n",
       "       [0., 0., 0., 0., 1.]])"
      ]
     },
     "execution_count": 58,
     "metadata": {},
     "output_type": "execute_result"
    }
   ],
   "source": [
    "#Ans:\n",
    "identity_mat=np.eye(5)\n",
    "identity_mat"
   ]
  },
  {
   "cell_type": "code",
   "execution_count": null,
   "id": "83f149d4",
   "metadata": {},
   "outputs": [],
   "source": []
  }
 ],
 "metadata": {
  "kernelspec": {
   "display_name": "Python 3 (ipykernel)",
   "language": "python",
   "name": "python3"
  },
  "language_info": {
   "codemirror_mode": {
    "name": "ipython",
    "version": 3
   },
   "file_extension": ".py",
   "mimetype": "text/x-python",
   "name": "python",
   "nbconvert_exporter": "python",
   "pygments_lexer": "ipython3",
   "version": "3.10.8"
  }
 },
 "nbformat": 4,
 "nbformat_minor": 5
}
