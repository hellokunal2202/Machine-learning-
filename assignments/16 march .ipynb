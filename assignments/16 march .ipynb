{
 "cells": [
  {
   "cell_type": "markdown",
   "id": "cb5cf0e8",
   "metadata": {},
   "source": [
    "# Assignment on  Variance, Bias, Overfitting Underfitting"
   ]
  },
  {
   "cell_type": "markdown",
   "id": "ac8061fc",
   "metadata": {},
   "source": [
    "Q1: Define overfitting and underfitting in machine learning. What are the consequences of each, and how\n",
    "can they be mitigated?"
   ]
  },
  {
   "cell_type": "markdown",
   "id": "bcb7e5fc",
   "metadata": {},
   "source": [
    "## Overfittning : "
   ]
  },
  {
   "cell_type": "code",
   "execution_count": null,
   "id": "a6062d53",
   "metadata": {},
   "outputs": [],
   "source": []
  }
 ],
 "metadata": {
  "kernelspec": {
   "display_name": "Python 3 (ipykernel)",
   "language": "python",
   "name": "python3"
  },
  "language_info": {
   "codemirror_mode": {
    "name": "ipython",
    "version": 3
   },
   "file_extension": ".py",
   "mimetype": "text/x-python",
   "name": "python",
   "nbconvert_exporter": "python",
   "pygments_lexer": "ipython3",
   "version": "3.10.8"
  }
 },
 "nbformat": 4,
 "nbformat_minor": 5
}
