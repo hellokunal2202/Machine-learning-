{
 "cells": [
  {
   "cell_type": "markdown",
   "id": "e5c156a1",
   "metadata": {},
   "source": [
    "## Q1:\n",
    "Q1. You are writing code for a company. The requirement of the company is that you create a python \n",
    "function that will check whether the password entered by the user is correct or not. The function should \n",
    "take the password as input and return the string “Valid Password” if the entered password follows the \n",
    "below-given password guidelines else it should return “Invalid Password”.\n",
    "\n",
    "    Note:1. The Password should contain at least two uppercase letters and at least two lowercase letters.\n",
    "\n",
    "        2. The Password should contain at least a number and three special characters.\n",
    "\n",
    "        3. The length of the password should be 10 characters long."
   ]
  },
  {
   "cell_type": "code",
   "execution_count": 32,
   "id": "8bd13eae",
   "metadata": {},
   "outputs": [
    {
     "name": "stdout",
     "output_type": "stream",
     "text": [
      "Enter your password:jhkfhsdssdjfdsfdgfdshfuidh3249326736432823\n",
      "26\n"
     ]
    }
   ],
   "source": [
    "import re\n",
    "special_char = re.compile('[@_!#$%^&*()<>?/\\|}{~:]')\n",
    "s=input(\"Enter your password:\")\n",
    "upper_count=0\n",
    "lower_count=0\n",
    "char_count=0\n",
    "digit=0\n",
    "if(len(s)>=10):\n",
    "    for i in s:\n",
    "        if(i.isupper()):\n",
    "            upper_count+=1\n",
    "        elif(i.islower()):\n",
    "            lower_count+=1\n",
    "        elif(special_char.search(s)!=None):\n",
    "            char_count+=1\n",
    "        if (i.isalpha()):\n",
    "        alpha+=1\n",
    "                \n",
    "    print(upper_count, lower_count,digit ,char_count)\n",
    "#     if(upper_count<2 or lower_count<2 or digit<1 or char_count<3 ):\n",
    "#         print(\"Invalid Password\")\n",
    "#     else:\n",
    "#         print(\"Valid password\")\n",
    "else:\n",
    "    print(\"Invalid Password\")\n",
    "    \n",
    "    \n",
    "    "
   ]
  },
  {
   "cell_type": "code",
   "execution_count": 36,
   "id": "5a34ce81",
   "metadata": {},
   "outputs": [
    {
     "data": {
      "text/plain": [
       "False"
      ]
     },
     "execution_count": 36,
     "metadata": {},
     "output_type": "execute_result"
    }
   ],
   "source": [
    "s=\"@kunal\"\n",
    "s[0].islower()"
   ]
  },
  {
   "cell_type": "code",
   "execution_count": null,
   "id": "62d4f7d2",
   "metadata": {},
   "outputs": [],
   "source": []
  }
 ],
 "metadata": {
  "kernelspec": {
   "display_name": "Python 3 (ipykernel)",
   "language": "python",
   "name": "python3"
  },
  "language_info": {
   "codemirror_mode": {
    "name": "ipython",
    "version": 3
   },
   "file_extension": ".py",
   "mimetype": "text/x-python",
   "name": "python",
   "nbconvert_exporter": "python",
   "pygments_lexer": "ipython3",
   "version": "3.10.8"
  }
 },
 "nbformat": 4,
 "nbformat_minor": 5
}
