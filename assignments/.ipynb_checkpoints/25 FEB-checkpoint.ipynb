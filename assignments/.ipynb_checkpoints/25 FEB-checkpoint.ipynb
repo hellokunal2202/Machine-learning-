{
 "cells": [
  {
   "cell_type": "code",
   "execution_count": 1,
   "id": "4d7d8e86",
   "metadata": {},
   "outputs": [],
   "source": [
    "import pandas as pd\n",
    "course_name = ['Data Science', 'Machine Learning', 'Big Data', 'Data Engineer']\n",
    "duration = [2,3,6,4]\n",
    "df = pd.DataFrame(data = {'course_name' : course_name, 'duration' : duration})"
   ]
  },
  {
   "cell_type": "code",
   "execution_count": 2,
   "id": "e4f83589",
   "metadata": {},
   "outputs": [
    {
     "data": {
      "text/html": [
       "<div>\n",
       "<style scoped>\n",
       "    .dataframe tbody tr th:only-of-type {\n",
       "        vertical-align: middle;\n",
       "    }\n",
       "\n",
       "    .dataframe tbody tr th {\n",
       "        vertical-align: top;\n",
       "    }\n",
       "\n",
       "    .dataframe thead th {\n",
       "        text-align: right;\n",
       "    }\n",
       "</style>\n",
       "<table border=\"1\" class=\"dataframe\">\n",
       "  <thead>\n",
       "    <tr style=\"text-align: right;\">\n",
       "      <th></th>\n",
       "      <th>course_name</th>\n",
       "      <th>duration</th>\n",
       "    </tr>\n",
       "  </thead>\n",
       "  <tbody>\n",
       "    <tr>\n",
       "      <th>0</th>\n",
       "      <td>Data Science</td>\n",
       "      <td>2</td>\n",
       "    </tr>\n",
       "    <tr>\n",
       "      <th>1</th>\n",
       "      <td>Machine Learning</td>\n",
       "      <td>3</td>\n",
       "    </tr>\n",
       "    <tr>\n",
       "      <th>2</th>\n",
       "      <td>Big Data</td>\n",
       "      <td>6</td>\n",
       "    </tr>\n",
       "    <tr>\n",
       "      <th>3</th>\n",
       "      <td>Data Engineer</td>\n",
       "      <td>4</td>\n",
       "    </tr>\n",
       "  </tbody>\n",
       "</table>\n",
       "</div>"
      ],
      "text/plain": [
       "        course_name  duration\n",
       "0      Data Science         2\n",
       "1  Machine Learning         3\n",
       "2          Big Data         6\n",
       "3     Data Engineer         4"
      ]
     },
     "execution_count": 2,
     "metadata": {},
     "output_type": "execute_result"
    }
   ],
   "source": [
    "df"
   ]
  },
  {
   "cell_type": "markdown",
   "id": "50b5b87d",
   "metadata": {},
   "source": [
    "# Q1: "
   ]
  },
  {
   "cell_type": "markdown",
   "id": "07c31eae",
   "metadata": {},
   "source": [
    "Q1. Write a code to print the data present in the second row of the dataframe, df."
   ]
  },
  {
   "cell_type": "code",
   "execution_count": 3,
   "id": "7f9ed9cd",
   "metadata": {},
   "outputs": [
    {
     "data": {
      "text/html": [
       "<div>\n",
       "<style scoped>\n",
       "    .dataframe tbody tr th:only-of-type {\n",
       "        vertical-align: middle;\n",
       "    }\n",
       "\n",
       "    .dataframe tbody tr th {\n",
       "        vertical-align: top;\n",
       "    }\n",
       "\n",
       "    .dataframe thead th {\n",
       "        text-align: right;\n",
       "    }\n",
       "</style>\n",
       "<table border=\"1\" class=\"dataframe\">\n",
       "  <thead>\n",
       "    <tr style=\"text-align: right;\">\n",
       "      <th></th>\n",
       "      <th>course_name</th>\n",
       "      <th>duration</th>\n",
       "    </tr>\n",
       "  </thead>\n",
       "  <tbody>\n",
       "    <tr>\n",
       "      <th>1</th>\n",
       "      <td>Machine Learning</td>\n",
       "      <td>3</td>\n",
       "    </tr>\n",
       "  </tbody>\n",
       "</table>\n",
       "</div>"
      ],
      "text/plain": [
       "        course_name  duration\n",
       "1  Machine Learning         3"
      ]
     },
     "execution_count": 3,
     "metadata": {},
     "output_type": "execute_result"
    }
   ],
   "source": [
    "df.loc[[1]]"
   ]
  },
  {
   "cell_type": "markdown",
   "id": "16906b55",
   "metadata": {},
   "source": [
    "# Q2: "
   ]
  },
  {
   "cell_type": "markdown",
   "id": "7bb07d7f",
   "metadata": {},
   "source": [
    "Q2. What is the difference between the functions loc and iloc in pandas.DataFrame?"
   ]
  },
  {
   "cell_type": "markdown",
   "id": "5d79deaa",
   "metadata": {},
   "source": [
    "## Python loc() function:\n",
    "The loc() function is label based data selecting method which means that we have to pass the name of the row or column which we want to select. This method includes the last element of the range passed in it, unlike iloc(). loc() can accept the boolean data unlike iloc(). Many operations can be performed using the loc() method like"
   ]
  },
  {
   "cell_type": "markdown",
   "id": "5a91ec09",
   "metadata": {},
   "source": [
    "## Python iloc() function\n",
    "The iloc() function is an indexed-based selecting method which means that we have to pass an integer index in the method to select a specific row/column. This method does not include the last element of the range passed in it unlike loc(). iloc() does not accept the boolean data unlike loc(). Operations performed using iloc() are:"
   ]
  },
  {
   "cell_type": "markdown",
   "id": "a0e6845f",
   "metadata": {},
   "source": [
    "#  Q3:"
   ]
  },
  {
   "cell_type": "markdown",
   "id": "7468a0ea",
   "metadata": {},
   "source": [
    "Q3. Reindex the given dataframe using a variable, reindex = [3,0,1,2] and store it in the variable, new_df\n",
    "then find the output for both new_df.loc[2] and new_df.iloc[2].<br>\n",
    "Did you observe any difference in both the outputs? If so then explain it.\n",
    "Consider the below code to answer further questions:"
   ]
  },
  {
   "cell_type": "code",
   "execution_count": 4,
   "id": "6fd96a01",
   "metadata": {},
   "outputs": [
    {
     "data": {
      "text/html": [
       "<div>\n",
       "<style scoped>\n",
       "    .dataframe tbody tr th:only-of-type {\n",
       "        vertical-align: middle;\n",
       "    }\n",
       "\n",
       "    .dataframe tbody tr th {\n",
       "        vertical-align: top;\n",
       "    }\n",
       "\n",
       "    .dataframe thead th {\n",
       "        text-align: right;\n",
       "    }\n",
       "</style>\n",
       "<table border=\"1\" class=\"dataframe\">\n",
       "  <thead>\n",
       "    <tr style=\"text-align: right;\">\n",
       "      <th></th>\n",
       "      <th>column_1</th>\n",
       "      <th>column_2</th>\n",
       "      <th>column_3</th>\n",
       "      <th>column_4</th>\n",
       "      <th>column_5</th>\n",
       "      <th>column_6</th>\n",
       "    </tr>\n",
       "  </thead>\n",
       "  <tbody>\n",
       "    <tr>\n",
       "      <th>1</th>\n",
       "      <td>0.148014</td>\n",
       "      <td>0.983923</td>\n",
       "      <td>0.974383</td>\n",
       "      <td>0.182731</td>\n",
       "      <td>0.347489</td>\n",
       "      <td>0.526826</td>\n",
       "    </tr>\n",
       "    <tr>\n",
       "      <th>2</th>\n",
       "      <td>0.540384</td>\n",
       "      <td>0.169310</td>\n",
       "      <td>0.850888</td>\n",
       "      <td>0.350993</td>\n",
       "      <td>0.781424</td>\n",
       "      <td>0.191975</td>\n",
       "    </tr>\n",
       "    <tr>\n",
       "      <th>3</th>\n",
       "      <td>0.475347</td>\n",
       "      <td>0.741324</td>\n",
       "      <td>0.010662</td>\n",
       "      <td>0.524535</td>\n",
       "      <td>0.140819</td>\n",
       "      <td>0.145230</td>\n",
       "    </tr>\n",
       "    <tr>\n",
       "      <th>4</th>\n",
       "      <td>0.893269</td>\n",
       "      <td>0.631924</td>\n",
       "      <td>0.834372</td>\n",
       "      <td>0.748849</td>\n",
       "      <td>0.495850</td>\n",
       "      <td>0.636546</td>\n",
       "    </tr>\n",
       "    <tr>\n",
       "      <th>5</th>\n",
       "      <td>0.229400</td>\n",
       "      <td>0.450603</td>\n",
       "      <td>0.762801</td>\n",
       "      <td>0.029107</td>\n",
       "      <td>0.987264</td>\n",
       "      <td>0.493294</td>\n",
       "    </tr>\n",
       "    <tr>\n",
       "      <th>6</th>\n",
       "      <td>0.019060</td>\n",
       "      <td>0.347493</td>\n",
       "      <td>0.544746</td>\n",
       "      <td>0.398896</td>\n",
       "      <td>0.851163</td>\n",
       "      <td>0.305102</td>\n",
       "    </tr>\n",
       "  </tbody>\n",
       "</table>\n",
       "</div>"
      ],
      "text/plain": [
       "   column_1  column_2  column_3  column_4  column_5  column_6\n",
       "1  0.148014  0.983923  0.974383  0.182731  0.347489  0.526826\n",
       "2  0.540384  0.169310  0.850888  0.350993  0.781424  0.191975\n",
       "3  0.475347  0.741324  0.010662  0.524535  0.140819  0.145230\n",
       "4  0.893269  0.631924  0.834372  0.748849  0.495850  0.636546\n",
       "5  0.229400  0.450603  0.762801  0.029107  0.987264  0.493294\n",
       "6  0.019060  0.347493  0.544746  0.398896  0.851163  0.305102"
      ]
     },
     "execution_count": 4,
     "metadata": {},
     "output_type": "execute_result"
    }
   ],
   "source": [
    "import pandas as pd\n",
    "import numpy as np\n",
    "columns = ['column_1', 'column_2', 'column_3', 'column_4', 'column_5', 'column_6']\n",
    "indices = [1,2,3,4,5,6]\n",
    "#Creating a dataframe:\n",
    "df1 = pd.DataFrame(np.random.rand(6,6), columns = columns, index = indices)\n",
    "df1"
   ]
  },
  {
   "cell_type": "code",
   "execution_count": 5,
   "id": "866988fb",
   "metadata": {},
   "outputs": [
    {
     "data": {
      "text/html": [
       "<div>\n",
       "<style scoped>\n",
       "    .dataframe tbody tr th:only-of-type {\n",
       "        vertical-align: middle;\n",
       "    }\n",
       "\n",
       "    .dataframe tbody tr th {\n",
       "        vertical-align: top;\n",
       "    }\n",
       "\n",
       "    .dataframe thead th {\n",
       "        text-align: right;\n",
       "    }\n",
       "</style>\n",
       "<table border=\"1\" class=\"dataframe\">\n",
       "  <thead>\n",
       "    <tr style=\"text-align: right;\">\n",
       "      <th></th>\n",
       "      <th>column_1</th>\n",
       "      <th>column_2</th>\n",
       "      <th>column_3</th>\n",
       "      <th>column_4</th>\n",
       "      <th>column_5</th>\n",
       "      <th>column_6</th>\n",
       "    </tr>\n",
       "  </thead>\n",
       "  <tbody>\n",
       "    <tr>\n",
       "      <th>3</th>\n",
       "      <td>0.475347</td>\n",
       "      <td>0.741324</td>\n",
       "      <td>0.010662</td>\n",
       "      <td>0.524535</td>\n",
       "      <td>0.140819</td>\n",
       "      <td>0.145230</td>\n",
       "    </tr>\n",
       "    <tr>\n",
       "      <th>0</th>\n",
       "      <td>NaN</td>\n",
       "      <td>NaN</td>\n",
       "      <td>NaN</td>\n",
       "      <td>NaN</td>\n",
       "      <td>NaN</td>\n",
       "      <td>NaN</td>\n",
       "    </tr>\n",
       "    <tr>\n",
       "      <th>1</th>\n",
       "      <td>0.148014</td>\n",
       "      <td>0.983923</td>\n",
       "      <td>0.974383</td>\n",
       "      <td>0.182731</td>\n",
       "      <td>0.347489</td>\n",
       "      <td>0.526826</td>\n",
       "    </tr>\n",
       "    <tr>\n",
       "      <th>2</th>\n",
       "      <td>0.540384</td>\n",
       "      <td>0.169310</td>\n",
       "      <td>0.850888</td>\n",
       "      <td>0.350993</td>\n",
       "      <td>0.781424</td>\n",
       "      <td>0.191975</td>\n",
       "    </tr>\n",
       "  </tbody>\n",
       "</table>\n",
       "</div>"
      ],
      "text/plain": [
       "   column_1  column_2  column_3  column_4  column_5  column_6\n",
       "3  0.475347  0.741324  0.010662  0.524535  0.140819  0.145230\n",
       "0       NaN       NaN       NaN       NaN       NaN       NaN\n",
       "1  0.148014  0.983923  0.974383  0.182731  0.347489  0.526826\n",
       "2  0.540384  0.169310  0.850888  0.350993  0.781424  0.191975"
      ]
     },
     "execution_count": 5,
     "metadata": {},
     "output_type": "execute_result"
    }
   ],
   "source": [
    "#Ans:\n",
    "new_df=df1.reindex([3,0,1,2])\n",
    "new_df"
   ]
  },
  {
   "cell_type": "code",
   "execution_count": 6,
   "id": "d3059a96",
   "metadata": {},
   "outputs": [
    {
     "data": {
      "text/html": [
       "<div>\n",
       "<style scoped>\n",
       "    .dataframe tbody tr th:only-of-type {\n",
       "        vertical-align: middle;\n",
       "    }\n",
       "\n",
       "    .dataframe tbody tr th {\n",
       "        vertical-align: top;\n",
       "    }\n",
       "\n",
       "    .dataframe thead th {\n",
       "        text-align: right;\n",
       "    }\n",
       "</style>\n",
       "<table border=\"1\" class=\"dataframe\">\n",
       "  <thead>\n",
       "    <tr style=\"text-align: right;\">\n",
       "      <th></th>\n",
       "      <th>column_1</th>\n",
       "      <th>column_2</th>\n",
       "      <th>column_3</th>\n",
       "      <th>column_4</th>\n",
       "      <th>column_5</th>\n",
       "      <th>column_6</th>\n",
       "    </tr>\n",
       "  </thead>\n",
       "  <tbody>\n",
       "    <tr>\n",
       "      <th>2</th>\n",
       "      <td>0.540384</td>\n",
       "      <td>0.16931</td>\n",
       "      <td>0.850888</td>\n",
       "      <td>0.350993</td>\n",
       "      <td>0.781424</td>\n",
       "      <td>0.191975</td>\n",
       "    </tr>\n",
       "  </tbody>\n",
       "</table>\n",
       "</div>"
      ],
      "text/plain": [
       "   column_1  column_2  column_3  column_4  column_5  column_6\n",
       "2  0.540384   0.16931  0.850888  0.350993  0.781424  0.191975"
      ]
     },
     "execution_count": 6,
     "metadata": {},
     "output_type": "execute_result"
    }
   ],
   "source": [
    "new_df.loc[[2]] "
   ]
  },
  {
   "cell_type": "code",
   "execution_count": 7,
   "id": "a7a40cb9",
   "metadata": {},
   "outputs": [
    {
     "data": {
      "text/html": [
       "<div>\n",
       "<style scoped>\n",
       "    .dataframe tbody tr th:only-of-type {\n",
       "        vertical-align: middle;\n",
       "    }\n",
       "\n",
       "    .dataframe tbody tr th {\n",
       "        vertical-align: top;\n",
       "    }\n",
       "\n",
       "    .dataframe thead th {\n",
       "        text-align: right;\n",
       "    }\n",
       "</style>\n",
       "<table border=\"1\" class=\"dataframe\">\n",
       "  <thead>\n",
       "    <tr style=\"text-align: right;\">\n",
       "      <th></th>\n",
       "      <th>column_1</th>\n",
       "      <th>column_2</th>\n",
       "      <th>column_3</th>\n",
       "      <th>column_4</th>\n",
       "      <th>column_5</th>\n",
       "      <th>column_6</th>\n",
       "    </tr>\n",
       "  </thead>\n",
       "  <tbody>\n",
       "    <tr>\n",
       "      <th>1</th>\n",
       "      <td>0.148014</td>\n",
       "      <td>0.983923</td>\n",
       "      <td>0.974383</td>\n",
       "      <td>0.182731</td>\n",
       "      <td>0.347489</td>\n",
       "      <td>0.526826</td>\n",
       "    </tr>\n",
       "  </tbody>\n",
       "</table>\n",
       "</div>"
      ],
      "text/plain": [
       "   column_1  column_2  column_3  column_4  column_5  column_6\n",
       "1  0.148014  0.983923  0.974383  0.182731  0.347489  0.526826"
      ]
     },
     "execution_count": 7,
     "metadata": {},
     "output_type": "execute_result"
    }
   ],
   "source": [
    " new_df.iloc[[2]]"
   ]
  },
  {
   "cell_type": "markdown",
   "id": "b2c22af7",
   "metadata": {},
   "source": [
    "Yes there is difference in both the data this is because loc is used to index a pandas DataFrame or Series using labels. On the other hand, iloc can be used to retrieve records based on their positional index."
   ]
  },
  {
   "cell_type": "markdown",
   "id": "ae3c8658",
   "metadata": {},
   "source": [
    "#  Q4:"
   ]
  },
  {
   "cell_type": "markdown",
   "id": "9a2272df",
   "metadata": {},
   "source": [
    "Q4. Write a code to find the following statistical measurements for the above dataframe df1:<br>\n",
    "(i) mean of each and every column present in the dataframe.<br>\n",
    "(ii) standard deviation of column, ‘column_2’<br>"
   ]
  },
  {
   "cell_type": "code",
   "execution_count": 8,
   "id": "02a03e6f",
   "metadata": {},
   "outputs": [
    {
     "data": {
      "text/html": [
       "<div>\n",
       "<style scoped>\n",
       "    .dataframe tbody tr th:only-of-type {\n",
       "        vertical-align: middle;\n",
       "    }\n",
       "\n",
       "    .dataframe tbody tr th {\n",
       "        vertical-align: top;\n",
       "    }\n",
       "\n",
       "    .dataframe thead th {\n",
       "        text-align: right;\n",
       "    }\n",
       "</style>\n",
       "<table border=\"1\" class=\"dataframe\">\n",
       "  <thead>\n",
       "    <tr style=\"text-align: right;\">\n",
       "      <th></th>\n",
       "      <th>column_1</th>\n",
       "      <th>column_2</th>\n",
       "      <th>column_3</th>\n",
       "      <th>column_4</th>\n",
       "      <th>column_5</th>\n",
       "      <th>column_6</th>\n",
       "    </tr>\n",
       "  </thead>\n",
       "  <tbody>\n",
       "    <tr>\n",
       "      <th>1</th>\n",
       "      <td>0.148014</td>\n",
       "      <td>0.983923</td>\n",
       "      <td>0.974383</td>\n",
       "      <td>0.182731</td>\n",
       "      <td>0.347489</td>\n",
       "      <td>0.526826</td>\n",
       "    </tr>\n",
       "    <tr>\n",
       "      <th>2</th>\n",
       "      <td>0.540384</td>\n",
       "      <td>0.169310</td>\n",
       "      <td>0.850888</td>\n",
       "      <td>0.350993</td>\n",
       "      <td>0.781424</td>\n",
       "      <td>0.191975</td>\n",
       "    </tr>\n",
       "    <tr>\n",
       "      <th>3</th>\n",
       "      <td>0.475347</td>\n",
       "      <td>0.741324</td>\n",
       "      <td>0.010662</td>\n",
       "      <td>0.524535</td>\n",
       "      <td>0.140819</td>\n",
       "      <td>0.145230</td>\n",
       "    </tr>\n",
       "    <tr>\n",
       "      <th>4</th>\n",
       "      <td>0.893269</td>\n",
       "      <td>0.631924</td>\n",
       "      <td>0.834372</td>\n",
       "      <td>0.748849</td>\n",
       "      <td>0.495850</td>\n",
       "      <td>0.636546</td>\n",
       "    </tr>\n",
       "    <tr>\n",
       "      <th>5</th>\n",
       "      <td>0.229400</td>\n",
       "      <td>0.450603</td>\n",
       "      <td>0.762801</td>\n",
       "      <td>0.029107</td>\n",
       "      <td>0.987264</td>\n",
       "      <td>0.493294</td>\n",
       "    </tr>\n",
       "    <tr>\n",
       "      <th>6</th>\n",
       "      <td>0.019060</td>\n",
       "      <td>0.347493</td>\n",
       "      <td>0.544746</td>\n",
       "      <td>0.398896</td>\n",
       "      <td>0.851163</td>\n",
       "      <td>0.305102</td>\n",
       "    </tr>\n",
       "  </tbody>\n",
       "</table>\n",
       "</div>"
      ],
      "text/plain": [
       "   column_1  column_2  column_3  column_4  column_5  column_6\n",
       "1  0.148014  0.983923  0.974383  0.182731  0.347489  0.526826\n",
       "2  0.540384  0.169310  0.850888  0.350993  0.781424  0.191975\n",
       "3  0.475347  0.741324  0.010662  0.524535  0.140819  0.145230\n",
       "4  0.893269  0.631924  0.834372  0.748849  0.495850  0.636546\n",
       "5  0.229400  0.450603  0.762801  0.029107  0.987264  0.493294\n",
       "6  0.019060  0.347493  0.544746  0.398896  0.851163  0.305102"
      ]
     },
     "execution_count": 8,
     "metadata": {},
     "output_type": "execute_result"
    }
   ],
   "source": [
    "df1"
   ]
  },
  {
   "cell_type": "code",
   "execution_count": 9,
   "id": "2f37feef",
   "metadata": {},
   "outputs": [
    {
     "data": {
      "text/plain": [
       "column_1    0.384246\n",
       "column_2    0.554096\n",
       "column_3    0.662975\n",
       "column_4    0.372518\n",
       "column_5    0.600668\n",
       "column_6    0.383162\n",
       "dtype: float64"
      ]
     },
     "execution_count": 9,
     "metadata": {},
     "output_type": "execute_result"
    }
   ],
   "source": [
    " df1.mean(axis=0)"
   ]
  },
  {
   "cell_type": "code",
   "execution_count": 10,
   "id": "eb0a7cd4",
   "metadata": {},
   "outputs": [
    {
     "data": {
      "text/plain": [
       "0.5540963360100385"
      ]
     },
     "execution_count": 10,
     "metadata": {},
     "output_type": "execute_result"
    }
   ],
   "source": [
    "df1['column_2'].mean()"
   ]
  },
  {
   "cell_type": "markdown",
   "id": "09c3b8ab",
   "metadata": {},
   "source": [
    "# Q5 :"
   ]
  },
  {
   "cell_type": "code",
   "execution_count": 11,
   "id": "6aa76410",
   "metadata": {},
   "outputs": [
    {
     "data": {
      "text/html": [
       "<div>\n",
       "<style scoped>\n",
       "    .dataframe tbody tr th:only-of-type {\n",
       "        vertical-align: middle;\n",
       "    }\n",
       "\n",
       "    .dataframe tbody tr th {\n",
       "        vertical-align: top;\n",
       "    }\n",
       "\n",
       "    .dataframe thead th {\n",
       "        text-align: right;\n",
       "    }\n",
       "</style>\n",
       "<table border=\"1\" class=\"dataframe\">\n",
       "  <thead>\n",
       "    <tr style=\"text-align: right;\">\n",
       "      <th></th>\n",
       "      <th>column_1</th>\n",
       "      <th>column_2</th>\n",
       "      <th>column_3</th>\n",
       "      <th>column_4</th>\n",
       "      <th>column_5</th>\n",
       "      <th>column_6</th>\n",
       "    </tr>\n",
       "  </thead>\n",
       "  <tbody>\n",
       "    <tr>\n",
       "      <th>1</th>\n",
       "      <td>0.148014</td>\n",
       "      <td>0.983923</td>\n",
       "      <td>0.974383</td>\n",
       "      <td>0.182731</td>\n",
       "      <td>0.347489</td>\n",
       "      <td>0.526826</td>\n",
       "    </tr>\n",
       "    <tr>\n",
       "      <th>2</th>\n",
       "      <td>0.540384</td>\n",
       "      <td>0.169310</td>\n",
       "      <td>0.850888</td>\n",
       "      <td>0.350993</td>\n",
       "      <td>0.781424</td>\n",
       "      <td>0.191975</td>\n",
       "    </tr>\n",
       "    <tr>\n",
       "      <th>3</th>\n",
       "      <td>0.475347</td>\n",
       "      <td>0.741324</td>\n",
       "      <td>0.010662</td>\n",
       "      <td>0.524535</td>\n",
       "      <td>0.140819</td>\n",
       "      <td>0.145230</td>\n",
       "    </tr>\n",
       "    <tr>\n",
       "      <th>4</th>\n",
       "      <td>0.893269</td>\n",
       "      <td>0.631924</td>\n",
       "      <td>0.834372</td>\n",
       "      <td>0.748849</td>\n",
       "      <td>0.495850</td>\n",
       "      <td>0.636546</td>\n",
       "    </tr>\n",
       "    <tr>\n",
       "      <th>5</th>\n",
       "      <td>0.229400</td>\n",
       "      <td>0.450603</td>\n",
       "      <td>0.762801</td>\n",
       "      <td>0.029107</td>\n",
       "      <td>0.987264</td>\n",
       "      <td>0.493294</td>\n",
       "    </tr>\n",
       "    <tr>\n",
       "      <th>6</th>\n",
       "      <td>0.019060</td>\n",
       "      <td>0.347493</td>\n",
       "      <td>0.544746</td>\n",
       "      <td>0.398896</td>\n",
       "      <td>0.851163</td>\n",
       "      <td>0.305102</td>\n",
       "    </tr>\n",
       "  </tbody>\n",
       "</table>\n",
       "</div>"
      ],
      "text/plain": [
       "   column_1  column_2  column_3  column_4  column_5  column_6\n",
       "1  0.148014  0.983923  0.974383  0.182731  0.347489  0.526826\n",
       "2  0.540384  0.169310  0.850888  0.350993  0.781424  0.191975\n",
       "3  0.475347  0.741324  0.010662  0.524535  0.140819  0.145230\n",
       "4  0.893269  0.631924  0.834372  0.748849  0.495850  0.636546\n",
       "5  0.229400  0.450603  0.762801  0.029107  0.987264  0.493294\n",
       "6  0.019060  0.347493  0.544746  0.398896  0.851163  0.305102"
      ]
     },
     "execution_count": 11,
     "metadata": {},
     "output_type": "execute_result"
    }
   ],
   "source": [
    "df1"
   ]
  },
  {
   "cell_type": "code",
   "execution_count": 12,
   "id": "fcf3145b",
   "metadata": {},
   "outputs": [
    {
     "data": {
      "text/plain": [
       "0.1693104653862102"
      ]
     },
     "execution_count": 12,
     "metadata": {},
     "output_type": "execute_result"
    }
   ],
   "source": [
    "df1.loc[2][1]"
   ]
  },
  {
   "cell_type": "code",
   "execution_count": 13,
   "id": "5f7f2d81",
   "metadata": {},
   "outputs": [
    {
     "data": {
      "text/html": [
       "<div>\n",
       "<style scoped>\n",
       "    .dataframe tbody tr th:only-of-type {\n",
       "        vertical-align: middle;\n",
       "    }\n",
       "\n",
       "    .dataframe tbody tr th {\n",
       "        vertical-align: top;\n",
       "    }\n",
       "\n",
       "    .dataframe thead th {\n",
       "        text-align: right;\n",
       "    }\n",
       "</style>\n",
       "<table border=\"1\" class=\"dataframe\">\n",
       "  <thead>\n",
       "    <tr style=\"text-align: right;\">\n",
       "      <th></th>\n",
       "      <th>column_1</th>\n",
       "      <th>column_2</th>\n",
       "      <th>column_3</th>\n",
       "      <th>column_4</th>\n",
       "      <th>column_5</th>\n",
       "      <th>column_6</th>\n",
       "    </tr>\n",
       "  </thead>\n",
       "  <tbody>\n",
       "    <tr>\n",
       "      <th>1</th>\n",
       "      <td>0.148014</td>\n",
       "      <td>0.983923</td>\n",
       "      <td>0.974383</td>\n",
       "      <td>0.182731</td>\n",
       "      <td>0.347489</td>\n",
       "      <td>0.526826</td>\n",
       "    </tr>\n",
       "    <tr>\n",
       "      <th>2</th>\n",
       "      <td>0.540384</td>\n",
       "      <td>0.169310</td>\n",
       "      <td>0.850888</td>\n",
       "      <td>0.350993</td>\n",
       "      <td>0.781424</td>\n",
       "      <td>0.191975</td>\n",
       "    </tr>\n",
       "    <tr>\n",
       "      <th>3</th>\n",
       "      <td>0.475347</td>\n",
       "      <td>0.741324</td>\n",
       "      <td>0.010662</td>\n",
       "      <td>0.524535</td>\n",
       "      <td>0.140819</td>\n",
       "      <td>0.145230</td>\n",
       "    </tr>\n",
       "    <tr>\n",
       "      <th>4</th>\n",
       "      <td>0.893269</td>\n",
       "      <td>0.631924</td>\n",
       "      <td>0.834372</td>\n",
       "      <td>0.748849</td>\n",
       "      <td>0.495850</td>\n",
       "      <td>0.636546</td>\n",
       "    </tr>\n",
       "    <tr>\n",
       "      <th>5</th>\n",
       "      <td>0.229400</td>\n",
       "      <td>0.450603</td>\n",
       "      <td>0.762801</td>\n",
       "      <td>0.029107</td>\n",
       "      <td>0.987264</td>\n",
       "      <td>0.493294</td>\n",
       "    </tr>\n",
       "    <tr>\n",
       "      <th>6</th>\n",
       "      <td>0.019060</td>\n",
       "      <td>0.347493</td>\n",
       "      <td>0.544746</td>\n",
       "      <td>0.398896</td>\n",
       "      <td>0.851163</td>\n",
       "      <td>0.305102</td>\n",
       "    </tr>\n",
       "  </tbody>\n",
       "</table>\n",
       "</div>"
      ],
      "text/plain": [
       "   column_1  column_2  column_3  column_4  column_5  column_6\n",
       "1  0.148014  0.983923  0.974383  0.182731  0.347489  0.526826\n",
       "2  0.540384  0.169310  0.850888  0.350993  0.781424  0.191975\n",
       "3  0.475347  0.741324  0.010662  0.524535  0.140819  0.145230\n",
       "4  0.893269  0.631924  0.834372  0.748849  0.495850  0.636546\n",
       "5  0.229400  0.450603  0.762801  0.029107  0.987264  0.493294\n",
       "6  0.019060  0.347493  0.544746  0.398896  0.851163  0.305102"
      ]
     },
     "execution_count": 13,
     "metadata": {},
     "output_type": "execute_result"
    }
   ],
   "source": [
    "df1 "
   ]
  },
  {
   "cell_type": "code",
   "execution_count": null,
   "id": "607cb675",
   "metadata": {},
   "outputs": [],
   "source": []
  }
 ],
 "metadata": {
  "kernelspec": {
   "display_name": "Python 3 (ipykernel)",
   "language": "python",
   "name": "python3"
  },
  "language_info": {
   "codemirror_mode": {
    "name": "ipython",
    "version": 3
   },
   "file_extension": ".py",
   "mimetype": "text/x-python",
   "name": "python",
   "nbconvert_exporter": "python",
   "pygments_lexer": "ipython3",
   "version": "3.10.8"
  }
 },
 "nbformat": 4,
 "nbformat_minor": 5
}
