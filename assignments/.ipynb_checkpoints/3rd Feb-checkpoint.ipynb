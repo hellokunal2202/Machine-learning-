{
 "cells": [
  {
   "cell_type": "markdown",
   "id": "5283cf2e",
   "metadata": {},
   "source": [
    "Q1. Which keyword is used to create a function?<br>\n",
    "Ans1.The def keyword is used to create, (or define) a function."
   ]
  },
  {
   "cell_type": "code",
   "execution_count": null,
   "id": "3a5c9702",
   "metadata": {},
   "outputs": [],
   "source": [
    "odd=[]\n",
    "def odd_num():\n",
    "    for i in range(26):\n",
    "        if(i%2!=0):\n",
    "            odd.append(i)\n",
    "#     print(type(odd))\n",
    "    return odd\n",
    "odd_num()\n"
   ]
  },
  {
   "cell_type": "code",
   "execution_count": null,
   "id": "fc4573df",
   "metadata": {},
   "outputs": [],
   "source": [
    "'''Q2. Why *args and **kwargs is used in some functions? Create a function each for *args and **kwargs\n",
    "to demonstrate their use.'''\n",
    "\n",
    "'''\n",
    "Ans:\n",
    "In Python, we can pass a variable number of arguments to a function using special symbols. There are two special symbols:\n",
    "\n",
    "*args (Non Keyword Arguments)\n",
    "**kwargs (Keyword Arguments)\n",
    "We use *args and **kwargs as an argument when we are unsure about the number of arguments to pass in the functions.'''\n",
    "\n",
    "'''*args'''\n",
    "adder(5,10,15,20,25)'''*args'''\n",
    "def adder(*args):\n",
    "    sum=0\n",
    "    for i in args:\n",
    "        sum=sum+i\n",
    "    print(sum)\n",
    "\n",
    "adder(5,10,15,20,25)\n",
    "adder(1,23,4)"
   ]
  },
  {
   "cell_type": "code",
   "execution_count": null,
   "id": "0c0aa1cf",
   "metadata": {},
   "outputs": [],
   "source": [
    "#**kargs\n",
    "def intro(**data):\n",
    "    print(\"\")\n",
    "    for key, value in data.items():\n",
    "        print(key,\":\",value)\n",
    "\n",
    "intro(Firstname=\"raju\", Lastname=\"Sharma\", Age=22, Phone=1234567890)\n",
    "intro(Firstname=\"kaju\", Lastname=\"patel\", Email=\"kaju123@gmail.com\", Country=\"MP\", Age=25, Phone=123456789)"
   ]
  },
  {
   "cell_type": "markdown",
   "id": "ebeec74e",
   "metadata": {},
   "source": [
    "Q3.What is an iterator in python? Name the method used to initialise the iterator object and the method\n",
    "used for iteration. Use these methods to print the first five elements of the given list [2,4,6,8,10,12,14,16,18,20]<br>\n",
    "\n",
    "Ans:<br>1.Iterators are methods that iterate collections like lists, tuples, etc. Using an iterator method, we can loop through an object and return its elements.\n",
    "\n",
    "2.The iterator object is initialized using the iter() method. It uses the next() method for iteration"
   ]
  },
  {
   "cell_type": "code",
   "execution_count": 2,
   "id": "f555d0b6",
   "metadata": {},
   "outputs": [
    {
     "name": "stdout",
     "output_type": "stream",
     "text": [
      "2 4 6 8 10 "
     ]
    }
   ],
   "source": [
    "list=[2,4,6,8,10,12,14,16,18,20]\n",
    "iterator = iter(list)\n",
    "\n",
    "for i in range(5):\n",
    "    print(next(iterator),end=\" \")\n",
    "    \n",
    "    "
   ]
  },
  {
   "cell_type": "markdown",
   "id": "b225bbf6",
   "metadata": {},
   "source": [
    "## Q3"
   ]
  },
  {
   "cell_type": "markdown",
   "id": "627260eb",
   "metadata": {},
   "source": [
    "Q3. What is an iterator in python? Name the method used to initialise the iterator object and the method\n",
    "used for iteration. Use these methods to print the first five elements of the given list [2, 4, 6, 8, 10, 12, 14,\n",
    "16, 18, 20].<br>\n",
    "Ans:<br>\n",
    "In Python, a generator is a function that returns an iterator that produces a sequence of values when iterated over.\n",
    "\n",
    "Generators are useful when we want to produce a large sequence of values, but we don't want to store all of them in memory at once.\n",
    "\n",
    "## yield function :\n",
    "The yield statement suspends a function’s execution and sends a value back to the caller, but retains enough state to enable the function to resume where it left off. When the function resumes, it continues execution immediately after the last yield run. This allows its code to produce a series of values over time, rather than computing them at once and sending them back like a list."
   ]
  },
  {
   "cell_type": "code",
   "execution_count": 24,
   "id": "ee0afe52",
   "metadata": {},
   "outputs": [
    {
     "name": "stdout",
     "output_type": "stream",
     "text": [
      "2 4 6 8 10 "
     ]
    }
   ],
   "source": [
    "l=[2, 4, 6, 8, 10, 12, 14, 16, 18, 20]\n",
    "\n",
    "def count(l):\n",
    "    for i in l:\n",
    "        yield i\n",
    "    \n",
    "c=count(l)\n",
    "for i in range(5):\n",
    "    print(next(c),end=\" \")"
   ]
  },
  {
   "cell_type": "code",
   "execution_count": null,
   "id": "078f6b9f",
   "metadata": {},
   "outputs": [],
   "source": []
  },
  {
   "cell_type": "code",
   "execution_count": 34,
   "id": "74c6334f",
   "metadata": {},
   "outputs": [
    {
     "name": "stdout",
     "output_type": "stream",
     "text": [
      "2 3 5 7 9 11 13 15 17 19 21 23 25 27 29 31 33 35 37 39 "
     ]
    }
   ],
   "source": [
    "# Q5. Create a generator function for prime numbers less than 1000. Use the next() method to print the\n",
    "# first 20 prime numbers.\n",
    "\n",
    "def prime():\n",
    "    for i in range(2,1001):\n",
    "        flag=1\n",
    "        for j in range(2,i):\n",
    "            if(i%2==0):\n",
    "                flag=0\n",
    "                break\n",
    "        if(flag==1):\n",
    "            yield i\n",
    "prime=prime()\n",
    "type(prime)\n",
    "for i in range(20):\n",
    "    print(next(prime),end=\" \")"
   ]
  },
  {
   "cell_type": "code",
   "execution_count": null,
   "id": "fab20a1d",
   "metadata": {},
   "outputs": [],
   "source": []
  },
  {
   "cell_type": "code",
   "execution_count": 39,
   "id": "7c5c5623",
   "metadata": {},
   "outputs": [
    {
     "name": "stdout",
     "output_type": "stream",
     "text": [
      "0 1 1 2 3 5 8 13 21 34 "
     ]
    }
   ],
   "source": [
    "# Q6. Write a python program to print the first 10 Fibonacci numbers using a while loop.\n",
    "\n",
    "a=0\n",
    "b=1\n",
    "n=0\n",
    "i=0\n",
    "l=[]\n",
    "while(i<10):\n",
    "        print(a,end=\" \")\n",
    "        n=a+b\n",
    "        a,b=b,n\n",
    "        i+=1\n",
    "        "
   ]
  },
  {
   "cell_type": "markdown",
   "id": "1ef31fcb",
   "metadata": {},
   "source": [
    "## Q7:"
   ]
  },
  {
   "cell_type": "markdown",
   "id": "af6112c7",
   "metadata": {},
   "source": [
    "Q7. Write a List Comprehension to iterate through the given string: ‘pwskills’.\n",
    "Expected output: ['p', 'w', 's', 'k', 'i', 'l', 'l', 's']"
   ]
  },
  {
   "cell_type": "code",
   "execution_count": 1,
   "id": "097ee252",
   "metadata": {},
   "outputs": [
    {
     "data": {
      "text/plain": [
       "['p', 'w', 's', 'k', 'i', 'l', 'l', 's']"
      ]
     },
     "execution_count": 1,
     "metadata": {},
     "output_type": "execute_result"
    }
   ],
   "source": [
    "s=\"pwskills\"\n",
    "[i for i in s ]"
   ]
  },
  {
   "cell_type": "code",
   "execution_count": 6,
   "id": "6d8341e5",
   "metadata": {},
   "outputs": [
    {
     "data": {
      "text/plain": [
       "5"
      ]
     },
     "execution_count": 6,
     "metadata": {},
     "output_type": "execute_result"
    }
   ],
   "source": [
    "s=\"jsad0\"\n",
    "len(s)"
   ]
  },
  {
   "cell_type": "markdown",
   "id": "038d49c7",
   "metadata": {},
   "source": [
    "## Q8:"
   ]
  },
  {
   "cell_type": "code",
   "execution_count": 19,
   "id": "98bce1df",
   "metadata": {},
   "outputs": [
    {
     "name": "stdout",
     "output_type": "stream",
     "text": [
      "enter a string:aabaa\n",
      "aabaa\n",
      "palindrome\n"
     ]
    }
   ],
   "source": [
    "#  Write a python program to check whether a given number is Palindrome or not using a while loop.\n",
    "s1=input(\"enter a string:\")\n",
    "s2=s1[::-1]\n",
    "print(s2)\n",
    "if (s1==s2):\n",
    "    print(\"palindrome\")\n",
    "else:\n",
    "    print(\"not palindrome\")"
   ]
  },
  {
   "cell_type": "markdown",
   "id": "2c5939a4",
   "metadata": {},
   "source": [
    "## Q9:"
   ]
  },
  {
   "cell_type": "code",
   "execution_count": 23,
   "id": "6d77bf79",
   "metadata": {},
   "outputs": [
    {
     "name": "stdout",
     "output_type": "stream",
     "text": [
      "[1, 3, 5, 7, 9, 11, 13, 15, 17, 19, 21, 23, 25, 27, 29, 31, 33, 35, 37, 39, 41, 43, 45, 47, 49, 51, 53, 55, 57, 59, 61, 63, 65, 67, 69, 71, 73, 75, 77, 79, 81, 83, 85, 87, 89, 91, 93, 95, 97, 99]\n"
     ]
    }
   ],
   "source": [
    "# Q9. Write a code to print odd numbers from 1 to 100 using list comprehension.\n",
    "l=[i for i in range(1,101) if i%2!=0]\n",
    "print(l)"
   ]
  },
  {
   "cell_type": "code",
   "execution_count": null,
   "id": "e3203f94",
   "metadata": {},
   "outputs": [],
   "source": [
    "    "
   ]
  }
 ],
 "metadata": {
  "kernelspec": {
   "display_name": "Python 3 (ipykernel)",
   "language": "python",
   "name": "python3"
  },
  "language_info": {
   "codemirror_mode": {
    "name": "ipython",
    "version": 3
   },
   "file_extension": ".py",
   "mimetype": "text/x-python",
   "name": "python",
   "nbconvert_exporter": "python",
   "pygments_lexer": "ipython3",
   "version": "3.10.8"
  }
 },
 "nbformat": 4,
 "nbformat_minor": 5
}
