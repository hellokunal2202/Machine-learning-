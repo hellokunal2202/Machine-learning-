{
 "cells": [
  {
   "cell_type": "markdown",
   "id": "53ef22ad",
   "metadata": {},
   "source": [
    "## Q1:"
   ]
  },
  {
   "cell_type": "markdown",
   "id": "5e7f8b07",
   "metadata": {},
   "source": [
    "Explain Class and Object with respect to Object-Oriented Programming. Give a suitable example.<br>\n"
   ]
  },
  {
   "cell_type": "markdown",
   "id": "71660c0a",
   "metadata": {},
   "source": [
    "Ans: \n",
    "## Class: \n",
    "Class is a detailed description, the definition, and the template of what an object will be. But it is not the object itself. Also, what we call, a class is the building block that leads to Object-Oriented Programming. It is a user-defined data type, that holds its own data members and member functions, which can be accessed and used by creating an instance of that class. It is the blueprint of any object. Once we have written a class and defined it, we can use it to create as many objects based on that class as we want.\n",
    "\n",
    "## Object:\n",
    "Object is an instance of a class. All data members and member functions of the class can be accessed with the help of objects."
   ]
  },
  {
   "cell_type": "code",
   "execution_count": 4,
   "id": "9936453f",
   "metadata": {},
   "outputs": [
    {
     "name": "stdout",
     "output_type": "stream",
     "text": [
      "Hello, my name is Kunal\n"
     ]
    }
   ],
   "source": [
    "class Person:    #class\n",
    "\n",
    "    # init method or constructor\n",
    "    def __init__(self, name):\n",
    "        self.name = name\n",
    "\n",
    "    # Sample Method\n",
    "    def say_hi(self):\n",
    "        print('Hello, my name is', self.name)\n",
    "\n",
    "\n",
    "p = Person('Kunal') #object\n",
    "p.say_hi()\n"
   ]
  },
  {
   "cell_type": "markdown",
   "id": "0b60be3d",
   "metadata": {},
   "source": [
    "## Q2:\n",
    "Name the four pillars of OOPs."
   ]
  },
  {
   "cell_type": "markdown",
   "id": "af361b81",
   "metadata": {},
   "source": [
    "Ans:The four pillars for Oops are:\n",
    "1. Abstraction\n",
    "\n",
    "2. Encapsulation\n",
    "\n",
    "3. Inheritance\n",
    "\n",
    "4. Polymorphism"
   ]
  },
  {
   "cell_type": "markdown",
   "id": "152b98f1",
   "metadata": {},
   "source": [
    "## Q3:\n",
    "Explain why the __init__() function is used. Give a suitable example.\n",
    "\n",
    "Ans: __init__  is  a Constructor in Python. Constructors are used to initializing the object’s state. The task of constructors is to initialize(assign values) to the data members of the class when an object of the class is created. Like methods, a constructor also contains a collection of statements(i.e. instructions) that are executed at the time of Object creation. It is run as soon as an object of a class is instantiated. The method is useful to do any initialization you want to do with your obje"
   ]
  },
  {
   "cell_type": "code",
   "execution_count": 6,
   "id": "d4f7d0ca",
   "metadata": {},
   "outputs": [
    {
     "name": "stdout",
     "output_type": "stream",
     "text": [
      "John\n",
      "36\n"
     ]
    }
   ],
   "source": [
    "class Person:\n",
    "    def __init__(self, name, age):\n",
    "        self.name = name\n",
    "        self.age = age\n",
    "\n",
    "p1 = Person(\"John\", 36)\n",
    "\n",
    "print(p1.name)\n",
    "print(p1.age)"
   ]
  },
  {
   "cell_type": "markdown",
   "id": "4a60fcca",
   "metadata": {},
   "source": [
    "## Q4:\n",
    "Why self is used in OOPs? <br>\n",
    "Ans:Self represents the instance of the class. By using the “self”  we can access the attributes and methods of the class in python. It binds the attributes with the given arguments.\n",
    "\n",
    "The reason you need to use self. is because Python does not use the @ syntax to refer to instance attributes. Python decided to do methods in a way that makes the instance to which the method belongs be passed automatically, but not received automatically: the first parameter of methods is the instance the method is called on."
   ]
  },
  {
   "cell_type": "markdown",
   "id": "5d301b74",
   "metadata": {},
   "source": [
    "## Q5.\n",
    "What is inheritance? Give an example for each type of inheritance."
   ]
  },
  {
   "cell_type": "markdown",
   "id": "0ad3f63e",
   "metadata": {},
   "source": [
    "Ans:Inheritance is defined as the mechanism of inheriting the properties of the base class to the child class. \n",
    "\n",
    "Let's see types of inheritence.\n",
    "\n",
    "## Single Inheritance: \n",
    "Single inheritance enables a derived class to inherit properties from a single parent class, thus enabling code reusability and the addition of new features to existing code.\n",
    "\n"
   ]
  },
  {
   "cell_type": "code",
   "execution_count": 7,
   "id": "56cb7020",
   "metadata": {},
   "outputs": [],
   "source": [
    "class Parent:\n",
    "    def func1(self):\n",
    "        print(\"This function is in parent class.\")\n",
    " #Derived class\n",
    " \n",
    "class Child(Parent):\n",
    "    def func2(self):\n",
    "        print(\"This function is in child class.\")"
   ]
  },
  {
   "cell_type": "markdown",
   "id": "22effbee",
   "metadata": {},
   "source": [
    "## Multiple Inheritance: \n",
    "When a class can be derived from more than one base class this type of inheritance is called multiple inheritances. \n",
    "In multiple inheritances, all the features of the base classes are inherited into the derived class. \n",
    "\n"
   ]
  },
  {
   "cell_type": "code",
   "execution_count": 8,
   "id": "ce864f1d",
   "metadata": {},
   "outputs": [
    {
     "name": "stdout",
     "output_type": "stream",
     "text": [
      "Father : RAM\n",
      "Mother : SITA\n"
     ]
    }
   ],
   "source": [
    "# Base class1\n",
    "class Mother:\n",
    "\tmothername = \"\"\n",
    "\n",
    "\tdef mother(self):\n",
    "\t\tprint(self.mothername)\n",
    "\n",
    "# Base class2\n",
    "class Father:\n",
    "\tfathername = \"\"\n",
    "\n",
    "\tdef father(self):\n",
    "\t\tprint(self.fathername)\n",
    "\n",
    "# Derived class\n",
    "class Son(Mother, Father):\n",
    "\tdef parents(self):\n",
    "\t\tprint(\"Father :\", self.fathername)\n",
    "\t\tprint(\"Mother :\", self.mothername)\n",
    "\n",
    "\n",
    "# Driver's code\n",
    "s1 = Son()\n",
    "s1.fathername = \"RAM\"\n",
    "s1.mothername = \"SITA\"\n",
    "s1.parents()\n"
   ]
  },
  {
   "cell_type": "markdown",
   "id": "ad5acaa8",
   "metadata": {},
   "source": [
    "## Multilevel Inheritance :\n",
    "In multilevel inheritance, features of the base class and the derived class are further inherited into the new derived class. This is similar to a relationship representing a child and a grandfather. "
   ]
  },
  {
   "cell_type": "code",
   "execution_count": 9,
   "id": "d524f7f6",
   "metadata": {},
   "outputs": [
    {
     "name": "stdout",
     "output_type": "stream",
     "text": [
      "Lal mani\n",
      "Grandfather name : Lal mani\n",
      "Father name : Rampal\n",
      "Son name : Prince\n"
     ]
    }
   ],
   "source": [
    "# Base class\n",
    "class Grandfather:\n",
    "\n",
    "\tdef __init__(self, grandfathername):\n",
    "\t\tself.grandfathername = grandfathername\n",
    "\n",
    "# Intermediate class\n",
    "\n",
    "\n",
    "class Father(Grandfather):\n",
    "\tdef __init__(self, fathername, grandfathername):\n",
    "\t\tself.fathername = fathername\n",
    "\n",
    "\t\t# invoking constructor of Grandfather class\n",
    "\t\tGrandfather.__init__(self, grandfathername)\n",
    "\n",
    "# Derived class\n",
    "\n",
    "\n",
    "class Son(Father):\n",
    "\tdef __init__(self, sonname, fathername, grandfathername):\n",
    "\t\tself.sonname = sonname\n",
    "\n",
    "\t\t# invoking constructor of Father class\n",
    "\t\tFather.__init__(self, fathername, grandfathername)\n",
    "\n",
    "\tdef print_name(self):\n",
    "\t\tprint('Grandfather name :', self.grandfathername)\n",
    "\t\tprint(\"Father name :\", self.fathername)\n",
    "\t\tprint(\"Son name :\", self.sonname)\n",
    "\n",
    "\n",
    "# Driver code\n",
    "s1 = Son('Prince', 'Rampal', 'Lal mani')\n",
    "print(s1.grandfathername)\n",
    "s1.print_name()\n"
   ]
  },
  {
   "cell_type": "markdown",
   "id": "e40d6a6a",
   "metadata": {},
   "source": [
    "## Hierarchical Inheritance: \n",
    "When more than one derived class are created from a single base this type of inheritance is called hierarchical inheritance. In this program, we have a parent (base) class and two child (derived) classes."
   ]
  },
  {
   "cell_type": "code",
   "execution_count": 10,
   "id": "c8833585",
   "metadata": {},
   "outputs": [
    {
     "name": "stdout",
     "output_type": "stream",
     "text": [
      "This function is in parent class.\n",
      "This function is in child 1.\n",
      "This function is in parent class.\n",
      "This function is in child 2.\n"
     ]
    }
   ],
   "source": [
    "# Base class\n",
    "class Parent:\n",
    "\tdef func1(self):\n",
    "\t\tprint(\"This function is in parent class.\")\n",
    "\n",
    "# Derived class1\n",
    "\n",
    "\n",
    "class Child1(Parent):\n",
    "\tdef func2(self):\n",
    "\t\tprint(\"This function is in child 1.\")\n",
    "\n",
    "# Derivied class2\n",
    "\n",
    "\n",
    "class Child2(Parent):\n",
    "\tdef func3(self):\n",
    "\t\tprint(\"This function is in child 2.\")\n",
    "\n",
    "\n",
    "# Driver's code\n",
    "object1 = Child1()\n",
    "object2 = Child2()\n",
    "object1.func1()\n",
    "object1.func2()\n",
    "object2.func1()\n",
    "object2.func3()\n"
   ]
  },
  {
   "cell_type": "code",
   "execution_count": null,
   "id": "1c7b1783",
   "metadata": {},
   "outputs": [],
   "source": []
  }
 ],
 "metadata": {
  "kernelspec": {
   "display_name": "Python 3 (ipykernel)",
   "language": "python",
   "name": "python3"
  },
  "language_info": {
   "codemirror_mode": {
    "name": "ipython",
    "version": 3
   },
   "file_extension": ".py",
   "mimetype": "text/x-python",
   "name": "python",
   "nbconvert_exporter": "python",
   "pygments_lexer": "ipython3",
   "version": "3.10.8"
  }
 },
 "nbformat": 4,
 "nbformat_minor": 5
}
